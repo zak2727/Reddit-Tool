{
 "cells": [
  {
   "cell_type": "markdown",
   "metadata": {},
   "source": [
    "# Reddit Query Tool\n",
    "\n",
    "## What is it?\n",
    "This tool lets you query information from the [Reddit Pushshift API](https://github.com/pushshift/api). With this tool you can:\n",
    "\n",
    "- Explore how often Reddit users have posted about a given topic\n",
    "- Find sample posts about a given topic\n",
    "- Get top-level metrics about Reddit posts\n",
    "\n",
    "##  How can I use it?\n",
    "To begin, hit \"Cell\" -> \"Run all\":\n",
    "https://screenshot.googleplex.com/mPuJGiqfKMK.png\n",
    "\n",
    "Fill out the below form. All fields are optional.\n",
    "\n",
    "Once ready, hit \"Go!\"\n",
    "\n",
    "## I don't want to see code!\n",
    "\n",
    "Don't worry! Once you hit \"Cell\" -> \"Run all\" buttons that say \"Toggle Code\" will appear. \n",
    "Hit them to make this a much cleaner enviornment. \n",
    "\n",
    "## More info\n",
    "For questions, comments, feature requests, more information, or a friendly chat reach out to zmpollack@."
   ]
  },
  {
   "cell_type": "code",
   "execution_count": 52,
   "metadata": {},
   "outputs": [
    {
     "data": {
      "text/html": [
       "\n",
       "    <script>\n",
       "    function code_toggle() {\n",
       "        if ($('div.cell.code_cell.rendered.selected div.input').css('display')!='none'){\n",
       "            $('div.cell.code_cell.rendered.selected div.input').hide();\n",
       "        } else {\n",
       "            $('div.cell.code_cell.rendered.selected div.input').show();\n",
       "        }\n",
       "    }\n",
       "    </script>\n",
       "\n",
       "\n",
       "<form action=\"javascript:code_toggle()\"><input type=\"submit\" id=\"toggleButton\" value=\"Toggle Code\"></form>\n"
      ],
      "text/plain": [
       "<IPython.core.display.HTML object>"
      ]
     },
     "metadata": {},
     "output_type": "display_data"
    },
    {
     "data": {
      "application/vnd.jupyter.widget-view+json": {
       "model_id": "db3f0fc655b84d71a2740a70a4e901e7",
       "version_major": 2,
       "version_minor": 0
      },
      "text/plain": [
       "Text(value='', description='Post IDs', placeholder='abcd, wxyz, qwerty', style=DescriptionStyle(description_wi…"
      ]
     },
     "metadata": {},
     "output_type": "display_data"
    },
    {
     "data": {
      "application/vnd.jupyter.widget-view+json": {
       "model_id": "a1e6ebe0e8314f428fdb4e3bd3f2aef6",
       "version_major": 2,
       "version_minor": 0
      },
      "text/plain": [
       "Text(value='', description='Search term', placeholder='android', style=DescriptionStyle(description_width='ini…"
      ]
     },
     "metadata": {},
     "output_type": "display_data"
    },
    {
     "data": {
      "application/vnd.jupyter.widget-view+json": {
       "model_id": "e1fb20e38e21497db268e28618f5f968",
       "version_major": 2,
       "version_minor": 0
      },
      "text/plain": [
       "Text(value='', description='Exlude search term', placeholder='robots', style=DescriptionStyle(description_widt…"
      ]
     },
     "metadata": {},
     "output_type": "display_data"
    },
    {
     "data": {
      "application/vnd.jupyter.widget-view+json": {
       "model_id": "dd3b7cb7907a413d8b481646404df530",
       "version_major": 2,
       "version_minor": 0
      },
      "text/plain": [
       "Text(value='', description='Title keyword', placeholder='battery', style=DescriptionStyle(description_width='i…"
      ]
     },
     "metadata": {},
     "output_type": "display_data"
    },
    {
     "data": {
      "application/vnd.jupyter.widget-view+json": {
       "model_id": "424c2d454fd24743b683ccc029f3e0ee",
       "version_major": 2,
       "version_minor": 0
      },
      "text/plain": [
       "Text(value='', description='Exclude keyword in title', placeholder='iphone', style=DescriptionStyle(descriptio…"
      ]
     },
     "metadata": {},
     "output_type": "display_data"
    },
    {
     "data": {
      "application/vnd.jupyter.widget-view+json": {
       "model_id": "47d351269336479094e577accd4ac0d9",
       "version_major": 2,
       "version_minor": 0
      },
      "text/plain": [
       "Text(value='', description='# posts returned, between 0 - 500', placeholder='20', style=DescriptionStyle(descr…"
      ]
     },
     "metadata": {},
     "output_type": "display_data"
    },
    {
     "data": {
      "application/vnd.jupyter.widget-view+json": {
       "model_id": "34b999b2a15a4027aa4cfee2f5ef0565",
       "version_major": 2,
       "version_minor": 0
      },
      "text/plain": [
       "Text(value='', description='Post author', placeholder='sundar', style=DescriptionStyle(description_width='init…"
      ]
     },
     "metadata": {},
     "output_type": "display_data"
    },
    {
     "data": {
      "application/vnd.jupyter.widget-view+json": {
       "model_id": "e68fd5e2da3648a39178fbe4e3348ec9",
       "version_major": 2,
       "version_minor": 0
      },
      "text/plain": [
       "Text(value='', description='Subreddit. Do not include \"r/\"', placeholder='google', style=DescriptionStyle(desc…"
      ]
     },
     "metadata": {},
     "output_type": "display_data"
    },
    {
     "data": {
      "application/vnd.jupyter.widget-view+json": {
       "model_id": "a03107c2e3aa4e63bcde0aef826a83e0",
       "version_major": 2,
       "version_minor": 0
      },
      "text/plain": [
       "Text(value='', description='Start date. Format mm/dd/yyyy', placeholder='09/27/2019', style=DescriptionStyle(d…"
      ]
     },
     "metadata": {},
     "output_type": "display_data"
    },
    {
     "data": {
      "application/vnd.jupyter.widget-view+json": {
       "model_id": "246ff02f045f4cf38b84c2e698572d45",
       "version_major": 2,
       "version_minor": 0
      },
      "text/plain": [
       "Text(value='', description='End date. Format mm/dd/yyyy', placeholder='12/27/2019', style=DescriptionStyle(des…"
      ]
     },
     "metadata": {},
     "output_type": "display_data"
    },
    {
     "data": {
      "application/vnd.jupyter.widget-view+json": {
       "model_id": "d14dad8c9471442387cfca49122ccd7d",
       "version_major": 2,
       "version_minor": 0
      },
      "text/plain": [
       "Text(value='', description='Score', placeholder='>100', style=DescriptionStyle(description_width='initial'))"
      ]
     },
     "metadata": {},
     "output_type": "display_data"
    },
    {
     "data": {
      "application/vnd.jupyter.widget-view+json": {
       "model_id": "bdbc63d298d34a8faf756cfcf6ef9261",
       "version_major": 2,
       "version_minor": 0
      },
      "text/plain": [
       "Text(value='', description='# Comments', placeholder='>10', style=DescriptionStyle(description_width='initial'…"
      ]
     },
     "metadata": {},
     "output_type": "display_data"
    },
    {
     "data": {
      "application/vnd.jupyter.widget-view+json": {
       "model_id": "92b9517b1a494630b7b08f542a2668ca",
       "version_major": 2,
       "version_minor": 0
      },
      "text/plain": [
       "RadioButtons(description='Order by', options=('desc', 'asc'), style=DescriptionStyle(description_width='initia…"
      ]
     },
     "metadata": {},
     "output_type": "display_data"
    },
    {
     "data": {
      "application/vnd.jupyter.widget-view+json": {
       "model_id": "5c1a8879f1cd4890bb24741bc0614760",
       "version_major": 2,
       "version_minor": 0
      },
      "text/plain": [
       "RadioButtons(description='Sort by', options=('score', 'num_comments', 'created_utc'), style=DescriptionStyle(d…"
      ]
     },
     "metadata": {},
     "output_type": "display_data"
    },
    {
     "data": {
      "application/vnd.jupyter.widget-view+json": {
       "model_id": "9a23d6adbe14407ca64a92f44a0e5a04",
       "version_major": 2,
       "version_minor": 0
      },
      "text/plain": [
       "RadioButtons(description='Output format', index=1, options=('csv', 'Text', 'Time Series', 'Subreddit'), style=…"
      ]
     },
     "metadata": {},
     "output_type": "display_data"
    }
   ],
   "source": [
    "import requests\n",
    "import json\n",
    "import time\n",
    "import os\n",
    "import urllib\n",
    "import csv\n",
    "import ipywidgets as widgets\n",
    "from IPython.display import display\n",
    "from IPython.display import HTML\n",
    "import datetime\n",
    "\n",
    "from IPython.core.display import display, HTML\n",
    "toggle_code_str = '''\n",
    "<form action=\"javascript:code_toggle()\"><input type=\"submit\" id=\"toggleButton\" value=\"Toggle Code\"></form>\n",
    "'''\n",
    "\n",
    "toggle_code_prepare_str = '''\n",
    "    <script>\n",
    "    function code_toggle() {\n",
    "        if ($('div.cell.code_cell.rendered.selected div.input').css('display')!='none'){\n",
    "            $('div.cell.code_cell.rendered.selected div.input').hide();\n",
    "        } else {\n",
    "            $('div.cell.code_cell.rendered.selected div.input').show();\n",
    "        }\n",
    "    }\n",
    "    </script>\n",
    "\n",
    "'''\n",
    "\n",
    "display(HTML(toggle_code_prepare_str + toggle_code_str))\n",
    "\n",
    "def toggle_code():\n",
    "    display(HTML(toggle_code_str))\n",
    "\n",
    "ids = ''\n",
    "q = ''\n",
    "q_not = ''\n",
    "title = ''\n",
    "titlenot = ''\n",
    "size = ''\n",
    "author = ''\n",
    "subreddit = ''\n",
    "after = ''\n",
    "before = ''\n",
    "score = ''\n",
    "num_comments = ''\n",
    "sort = ''\n",
    "sort_type = ''\n",
    "aggs = ''\n",
    "is_csv = 'Text'\n",
    "\n",
    "id_widget = widgets.Text(\n",
    "    value='',\n",
    "    style = {'description_width': 'initial'},\n",
    "    placeholder='abcd, wxyz, qwerty',\n",
    "    description='Post IDs',\n",
    "    disabled=False\n",
    ")\n",
    "\n",
    "q_widget = widgets.Text(\n",
    "    value='',\n",
    "    style = {'description_width': 'initial'},\n",
    "    placeholder='android',\n",
    "    description='Search term',\n",
    "    disabled=False\n",
    ")\n",
    "\n",
    "q_not_widget = widgets.Text(\n",
    "    value='',\n",
    "    style = {'description_width': 'initial'},\n",
    "    placeholder='robots',\n",
    "    description='Exlude search term',\n",
    "    disabled=False\n",
    ")\n",
    "\n",
    "title_widget = widgets.Text(\n",
    "    value='',\n",
    "    style = {'description_width': 'initial'},\n",
    "    placeholder='battery',\n",
    "    description='Title keyword',\n",
    "    disabled=False\n",
    ")\n",
    "\n",
    "titlenot_widget = widgets.Text(\n",
    "    value='',\n",
    "    style = {'description_width': 'initial'},\n",
    "    placeholder='iphone',\n",
    "    description='Exclude keyword in title',\n",
    "    disabled=False\n",
    ")\n",
    "\n",
    "size_widget = widgets.Text(\n",
    "    value='',\n",
    "    style = {'description_width': 'initial'},\n",
    "    placeholder='20',\n",
    "    description='# posts returned, between 0 - 500',\n",
    "    disabled=False\n",
    ")\n",
    "\n",
    "author_widget = widgets.Text(\n",
    "    value='',\n",
    "    style = {'description_width': 'initial'},\n",
    "    placeholder='sundar',\n",
    "    description='Post author',\n",
    "    disabled=False\n",
    ")\n",
    "\n",
    "subreddit_widget = widgets.Text(\n",
    "    value='',\n",
    "    style = {'description_width': 'initial'},\n",
    "    placeholder='google',\n",
    "    description='Subreddit. Do not include \"r/\"',\n",
    "    disabled=False\n",
    ")\n",
    "\n",
    "after_widget = widgets.Text(\n",
    "    value='',\n",
    "    style = {'description_width': 'initial'},\n",
    "    placeholder='09/27/2019',\n",
    "    description='Start date. Format mm/dd/yyyy',\n",
    "    disabled=False\n",
    ")\n",
    "\n",
    "\n",
    "before_widget = widgets.Text(\n",
    "    value='',\n",
    "    style = {'description_width': 'initial'},\n",
    "    placeholder='12/27/2019',\n",
    "    description='End date. Format mm/dd/yyyy',\n",
    "    disabled=False\n",
    ")\n",
    "score_widget = widgets.Text(\n",
    "    value='',\n",
    "    style = {'description_width': 'initial'},\n",
    "    placeholder='>100',\n",
    "    description='Score',\n",
    "    disabled=False\n",
    ") \n",
    "\n",
    "num_comments_widget = widgets.Text(\n",
    "    value='',\n",
    "    style = {'description_width': 'initial'},\n",
    "    placeholder='>10',\n",
    "    description='# Comments',\n",
    "    disabled=False\n",
    ") \n",
    "\n",
    "sort_widget = widgets.RadioButtons(\n",
    "    options=['desc', 'asc'],\n",
    "    style = {'description_width': 'initial'},\n",
    "    value='desc',\n",
    "    description='Order by',\n",
    "    disabled=False\n",
    ")\n",
    "\n",
    "sort_type_widget = widgets.RadioButtons(\n",
    "    options=['score', 'num_comments', 'created_utc'],\n",
    "    style = {'description_width': 'initial'},\n",
    "    value='score',\n",
    "    description='Sort by',\n",
    "    disabled=False\n",
    ")\n",
    "\n",
    "is_csv_widget = widgets.RadioButtons(\n",
    "    options=['csv', 'Text','Time Series', 'Subreddit'],\n",
    "    style = {'description_width': 'initial'},\n",
    "    value='Text',\n",
    "    description='Output format',\n",
    "    disabled=False\n",
    ")\n",
    "\n",
    "\n",
    "submit_widget = widgets.Button(description=\"Go!\")\n",
    "clear_widget = widgets.Button(description=\"Clear Output!\")\n",
    "output = widgets.Output()\n",
    "\n",
    "def convertTime():\n",
    "    global after\n",
    "    global before\n",
    "    pattern = '%m/%d/%Y'\n",
    "    os.environ['TZ']='UTC'\n",
    "    \n",
    "    if after == '':\n",
    "        pass\n",
    "    else:\n",
    "        after = str(int(time.mktime(time.strptime(after, pattern))))\n",
    "    if before == '':\n",
    "        pass\n",
    "    else:\n",
    "        before = str(int(time.mktime(time.strptime(before, pattern))))\n",
    "\n",
    "def updateVars():\n",
    "    global ids\n",
    "    global q\n",
    "    global q_not\n",
    "    global title\n",
    "    global titlenot\n",
    "    global size\n",
    "    global author\n",
    "    global subreddit\n",
    "    global after\n",
    "    global before\n",
    "    global score\n",
    "    global num_comments\n",
    "    global sort\n",
    "    global sort_type\n",
    "    global is_csv\n",
    "    \n",
    "    ids = id_widget.value\n",
    "    q = q_widget.value\n",
    "    q_not = q_not_widget.value\n",
    "    title = title_widget.value\n",
    "    titlenot = titlenot_widget.value\n",
    "    size = size_widget.value\n",
    "    author = author_widget.value\n",
    "    subreddit = subreddit_widget.value\n",
    "    after = after_widget.value\n",
    "    before = before_widget.value\n",
    "    score = score_widget.value\n",
    "    num_comments = num_comments_widget.value\n",
    "    sort = sort_widget.value\n",
    "    sort_type = sort_type_widget.value\n",
    "    is_csv = is_csv_widget.value\n",
    "    \n",
    "def createRequest():\n",
    "    global q\n",
    "    global q_not\n",
    "    global title\n",
    "    global titlenot\n",
    "    \n",
    "    if q == '':\n",
    "        pass\n",
    "    else:\n",
    "        q = urllib.parse.quote_plus(q)\n",
    "        \n",
    "    if q_not == '':\n",
    "        pass\n",
    "    else:\n",
    "        q_not = urllib.parse.quote_plus(q_not)\n",
    "               \n",
    "    if title == '':\n",
    "        pass\n",
    "    else:\n",
    "        title = urllib.parse.quote_plus(title)\n",
    "        \n",
    "    if titlenot == '':\n",
    "        pass\n",
    "    else:\n",
    "        titlenot = urllib.parse.quote_plus(titlenot)\n",
    "    \n",
    "    request = 'https://api.pushshift.io/reddit/search/submission/?'\n",
    "    request += 'size=' + size + '&'\n",
    "    request += \"ids=\" + ids + \"&\"\n",
    "    request += \"q=\" + q + \"&\"\n",
    "    request += \"q:not=\" + q_not + \"&\"\n",
    "    request += \"title=\" + title + \"&\"\n",
    "    request += \"title:not=\" + titlenot + \"&\"\n",
    "    request += \"author=\" + author + \"&\"\n",
    "    request += \"subreddit=\" + subreddit + \"&\"\n",
    "    request += \"after=\" + after + \"&\"\n",
    "    request += \"before=\" + before + \"&\"\n",
    "    request += \"score=\" + score + \"&\"\n",
    "    request += \"num_comments=\" + num_comments + \"&\"\n",
    "    request += \"sort=\" + sort + \"&\"\n",
    "    request += \"sort_type=\" + sort_type + \"&\"\n",
    "    request += \"metadata=true\" \n",
    "    \n",
    "    return request\n",
    "    \n",
    "def getResponse(request):\n",
    "    r = requests.get(request)\n",
    "    result = json.loads(r.content)\n",
    "    return result\n",
    "    \n",
    "def formatResponse(args):\n",
    "    \n",
    "    metadata = args['metadata']\n",
    "    total_results = metadata['total_results']\n",
    "    results_returned = metadata['results_returned']\n",
    "    \n",
    "    metadata_str = \"\"\"\n",
    "    **Info** \\n \\n\n",
    "    Total submissions: %s \\n\n",
    "    Posts returned: %s \\n\n",
    "    *************************** \\n\n",
    "    \"\"\" %(total_results, results_returned)\n",
    "    \n",
    "    data = args['data']\n",
    "\n",
    "    \n",
    "    i = 0 \n",
    "    data_str = '**Posts** \\n \\n'\n",
    "    \n",
    "    while i < results_returned:\n",
    "        author = data[i]['author']\n",
    "        full_link = data[i]['full_link']\n",
    "        num_comments = data[i]['num_comments']\n",
    "        subreddit = data[i]['subreddit']\n",
    "        title = data[i]['title']\n",
    "        score = data[i]['score']\n",
    "        \n",
    "        data_str += \"\"\"\n",
    "        Title : %s \\n\n",
    "        Author: %s \\n\n",
    "        Subreddit: %s \\n\n",
    "        Link: %s \\n\n",
    "        Number of comments: %s \\n\n",
    "        Score: %s \\n\n",
    "        *************************** \\n\n",
    "        \"\"\" %(title, author, subreddit, full_link, num_comments, score)\n",
    "        \n",
    "        i += 1\n",
    "    \n",
    "    full_str = str(metadata_str) + str(data_str)\n",
    "    \n",
    "    return(full_str)\n",
    "\n",
    "def csvResponse(args):\n",
    "    \n",
    "    metadata = args['metadata']\n",
    "    try:\n",
    "        results_returned = metadata['results_returned']\n",
    "        data = args['data'] \n",
    "        i = 0\n",
    "        data_str = \"\"\"\n",
    "        Copy the below, paste without formatting into a Google Sheet \\n\n",
    "        ****************************************************************\\n\n",
    "        title\\t author\\t subreddit\\t full link\\t number of comments\\t score\n",
    "        \"\"\"\n",
    "\n",
    "        while i < results_returned:\n",
    "            author = str(data[i]['author']).rstrip()\n",
    "            full_link = str(data[i]['full_link']).rstrip()\n",
    "            num_comments = str(data[i]['num_comments']).rstrip()\n",
    "            subreddit = str(data[i]['subreddit']).rstrip()\n",
    "            title = str(data[i]['title']).rstrip()\n",
    "            score = str(data[i]['score']).rstrip()\n",
    "\n",
    "            data_str += \"%s\\t%s\\t%s\\t%s\\t%s\\t%s\\n\" %(title, author, subreddit, full_link, num_comments, score)\n",
    "\n",
    "            i += 1\n",
    "\n",
    "        return(data_str)\n",
    "\n",
    "    except:\n",
    "        print('no results')\n",
    "        print(args)\n",
    "        \n",
    "def timeSeriesRequest():\n",
    "    global q\n",
    "    global q_not\n",
    "    global title\n",
    "    global titlenot\n",
    "    \n",
    "    if q == '':\n",
    "        pass\n",
    "    else:\n",
    "        q = urllib.parse.quote_plus(q)\n",
    "        \n",
    "    if q_not == '':\n",
    "        pass\n",
    "    else:\n",
    "        q_not = urllib.parse.quote_plus(q_not)\n",
    "               \n",
    "    if title == '':\n",
    "        pass\n",
    "    else:\n",
    "        title = urllib.parse.quote_plus(title)\n",
    "        \n",
    "    if titlenot == '':\n",
    "        pass\n",
    "    else:\n",
    "        titlenot = urllib.parse.quote_plus(titlenot)\n",
    "        \n",
    "    request = 'https://api.pushshift.io/reddit/search/submission/?'\n",
    "    request += 'size=0&'\n",
    "    request += \"ids=\" + ids + \"&\"\n",
    "    request += \"q=\" + q + \"&\"\n",
    "    request += \"q:not=\" + q_not + \"&\"\n",
    "    request += \"title=\" + title + \"&\"\n",
    "    request += \"title:not=\" + titlenot + \"&\"\n",
    "    request += \"author=\" + author + \"&\"\n",
    "    request += \"subreddit=\" + subreddit + \"&\"\n",
    "    request += \"after=\" + after + \"&\"\n",
    "    request += \"before=\" + before + \"&\"\n",
    "    request += \"score=\" + score + \"&\"\n",
    "    request += \"num_comments=\" + num_comments + \"&\"\n",
    "    request += \"aggs=created_utc&\"\n",
    "    request += \"frequency=day\"\n",
    "    \n",
    "    return request\n",
    "\n",
    "def timeSeriesResponse(args):\n",
    "    \n",
    "    data_str = \"\"\"\n",
    "        Copy the below, paste without formatting into a Google Sheet \\n\n",
    "        ****************************************************************\\n\n",
    "        date\\t post count\n",
    "        \"\"\"\n",
    "    for i in args['aggs']['created_utc']:\n",
    "        day = i['key']\n",
    "        count = str(i['doc_count'])\n",
    "        \n",
    "        day = str(time.strftime(\"%m/%d/%Y\", time.localtime(day)))\n",
    "        \n",
    "        data_str += \"%s\\t%s\\n\" %(day, count)\n",
    "        \n",
    "    return data_str\n",
    "\n",
    "def subredditRequest():\n",
    "    global q\n",
    "    global q_not\n",
    "    global title\n",
    "    global titlenot\n",
    "    \n",
    "    if q == '':\n",
    "        pass\n",
    "    else:\n",
    "        q = urllib.parse.quote_plus(q)\n",
    "        \n",
    "    if q_not == '':\n",
    "        pass\n",
    "    else:\n",
    "        q_not = urllib.parse.quote_plus(q_not)\n",
    "               \n",
    "    if title == '':\n",
    "        pass\n",
    "    else:\n",
    "        title = urllib.parse.quote_plus(title)\n",
    "        \n",
    "    if titlenot == '':\n",
    "        pass\n",
    "    else:\n",
    "        titlenot = urllib.parse.quote_plus(titlenot)\n",
    "        \n",
    "    request = 'https://api.pushshift.io/reddit/search/submission/?'\n",
    "    request += 'size=0&'\n",
    "    request += \"ids=\" + ids + \"&\"\n",
    "    request += \"q=\" + q + \"&\"\n",
    "    request += \"q:not=\" + q_not + \"&\"\n",
    "    request += \"title=\" + title + \"&\"\n",
    "    request += \"title:not=\" + titlenot + \"&\"\n",
    "    request += \"author=\" + author + \"&\"\n",
    "    request += \"subreddit=\" + subreddit + \"&\"\n",
    "    request += \"after=\" + after + \"&\"\n",
    "    request += \"before=\" + before + \"&\"\n",
    "    request += \"score=\" + score + \"&\"\n",
    "    request += \"num_comments=\" + num_comments + \"&\"\n",
    "    request += \"aggs=subreddit\"\n",
    "    \n",
    "    return request   \n",
    "    \n",
    "def subredditResponse(args):\n",
    "      \n",
    "    data_str = \"\"\"\n",
    "        Copy the below, paste without formatting into a Google Sheet \\n\n",
    "        ****************************************************************\\n\n",
    "        subreddit\\t post count\n",
    "        \"\"\"\n",
    "    for i in args['aggs']['subreddit']:\n",
    "        subreddit = i['key']\n",
    "        count = str(i['doc_count'])\n",
    "        \n",
    "        data_str += \"%s\\t%s\\n\" %(subreddit, count)\n",
    "        \n",
    "    return data_str\n",
    "    \n",
    "def onSubmit(b):\n",
    "    with output:\n",
    "        updateVars()\n",
    "        convertTime()\n",
    "        if is_csv == 'csv':\n",
    "            request = createRequest()\n",
    "            response = getResponse(request)\n",
    "            print(csvResponse(response))\n",
    "        elif is_csv == 'Text':\n",
    "            request = createRequest()\n",
    "            response = getResponse(request)\n",
    "            print(formatResponse(response))\n",
    "        elif is_csv == 'Time Series':\n",
    "            request = timeSeriesRequest()\n",
    "            response = getResponse(request)\n",
    "            print(timeSeriesResponse(response))\n",
    "        elif is_csv == 'Subreddit':\n",
    "            request = subredditRequest()\n",
    "            response = getResponse(request)\n",
    "            print(subredditResponse(response))\n",
    "        else:\n",
    "            print(\"ERROR!! CALL ZMPOLLACK@\")\n",
    "\n",
    "def clearOutput(b):\n",
    "    with output:\n",
    "        output.clear_output()\n",
    "\n",
    "display(id_widget,\n",
    "        q_widget,\n",
    "        q_not_widget,\n",
    "        title_widget,\n",
    "        titlenot_widget,\n",
    "        size_widget,\n",
    "        author_widget,\n",
    "        subreddit_widget,\n",
    "        after_widget,\n",
    "        before_widget,\n",
    "        score_widget,\n",
    "        num_comments_widget,\n",
    "        sort_widget,\n",
    "        sort_type_widget,\n",
    "        is_csv_widget)"
   ]
  },
  {
   "cell_type": "code",
   "execution_count": 53,
   "metadata": {},
   "outputs": [
    {
     "data": {
      "text/html": [
       "\n",
       "    <script>\n",
       "    function code_toggle() {\n",
       "        if ($('div.cell.code_cell.rendered.selected div.input').css('display')!='none'){\n",
       "            $('div.cell.code_cell.rendered.selected div.input').hide();\n",
       "        } else {\n",
       "            $('div.cell.code_cell.rendered.selected div.input').show();\n",
       "        }\n",
       "    }\n",
       "    </script>\n",
       "\n",
       "\n",
       "<form action=\"javascript:code_toggle()\"><input type=\"submit\" id=\"toggleButton\" value=\"Toggle Code\"></form>\n"
      ],
      "text/plain": [
       "<IPython.core.display.HTML object>"
      ]
     },
     "metadata": {},
     "output_type": "display_data"
    },
    {
     "data": {
      "application/vnd.jupyter.widget-view+json": {
       "model_id": "a63db91840c743448b4b86e2f2535480",
       "version_major": 2,
       "version_minor": 0
      },
      "text/plain": [
       "Button(description='Go!', style=ButtonStyle())"
      ]
     },
     "metadata": {},
     "output_type": "display_data"
    },
    {
     "data": {
      "application/vnd.jupyter.widget-view+json": {
       "model_id": "de402e8e48e940a88b8972f339fd73d6",
       "version_major": 2,
       "version_minor": 0
      },
      "text/plain": [
       "Output()"
      ]
     },
     "metadata": {},
     "output_type": "display_data"
    },
    {
     "data": {
      "application/vnd.jupyter.widget-view+json": {
       "model_id": "b32a1f94d4ac4878bd02d2605846fcba",
       "version_major": 2,
       "version_minor": 0
      },
      "text/plain": [
       "Button(description='Clear Output!', style=ButtonStyle())"
      ]
     },
     "metadata": {},
     "output_type": "display_data"
    }
   ],
   "source": [
    "from IPython.core.display import display, HTML\n",
    "toggle_code_str = '''\n",
    "<form action=\"javascript:code_toggle()\"><input type=\"submit\" id=\"toggleButton\" value=\"Toggle Code\"></form>\n",
    "'''\n",
    "\n",
    "toggle_code_prepare_str = '''\n",
    "    <script>\n",
    "    function code_toggle() {\n",
    "        if ($('div.cell.code_cell.rendered.selected div.input').css('display')!='none'){\n",
    "            $('div.cell.code_cell.rendered.selected div.input').hide();\n",
    "        } else {\n",
    "            $('div.cell.code_cell.rendered.selected div.input').show();\n",
    "        }\n",
    "    }\n",
    "    </script>\n",
    "\n",
    "'''\n",
    "\n",
    "display(HTML(toggle_code_prepare_str + toggle_code_str))\n",
    "\n",
    "def toggle_code():\n",
    "    display(HTML(toggle_code_str))\n",
    "\n",
    "submit_widget.on_click(onSubmit)\n",
    "\n",
    "clear_widget.on_click(clearOutput)\n",
    "\n",
    "display(submit_widget, output)\n",
    "\n",
    "display(clear_widget)\n"
   ]
  }
 ],
 "metadata": {
  "kernelspec": {
   "display_name": "Python 3",
   "language": "python",
   "name": "python3"
  },
  "language_info": {
   "codemirror_mode": {
    "name": "ipython",
    "version": 3
   },
   "file_extension": ".py",
   "mimetype": "text/x-python",
   "name": "python",
   "nbconvert_exporter": "python",
   "pygments_lexer": "ipython3",
   "version": "3.7.6"
  }
 },
 "nbformat": 4,
 "nbformat_minor": 2
}
