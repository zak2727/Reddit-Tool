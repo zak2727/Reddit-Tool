{
 "cells": [
  {
   "cell_type": "markdown",
   "metadata": {},
   "source": [
    "# Reddit Query Tool\n",
    "\n",
    "## What is it?\n",
    "This tool lets you query information from the [Reddit Pushshift API](https://github.com/pushshift/api). With this tool you can:\n",
    "\n",
    "- Explore how often Reddit users have posted about a given topic\n",
    "- Find sample posts about a given topic\n",
    "- Get top-level metrics about Reddit posts\n",
    "\n",
    "##  How can I use it?\n",
    "To begin, hit \"Cell\" -> \"Run all\"run tool:\n",
    "https://screenshot.googleplex.com/mPuJGiqfKMK.png\n",
    "\n",
    "Fill out the below form. All fields are optional.\n",
    "\n",
    "Once ready, hit \"Go!\"\n",
    "\n",
    "## More info\n",
    "For questions, comments, feature requests, more information, or a friendly chat reach out to zmpollack@."
   ]
  },
  {
   "cell_type": "code",
   "execution_count": 1,
   "metadata": {},
   "outputs": [
    {
     "data": {
      "text/html": [
       "\n",
       "    <script>\n",
       "    function code_toggle() {\n",
       "        if ($('div.cell.code_cell.rendered.selected div.input').css('display')!='none'){\n",
       "            $('div.cell.code_cell.rendered.selected div.input').hide();\n",
       "        } else {\n",
       "            $('div.cell.code_cell.rendered.selected div.input').show();\n",
       "        }\n",
       "    }\n",
       "    </script>\n",
       "\n",
       "\n",
       "<form action=\"javascript:code_toggle()\"><input type=\"submit\" id=\"toggleButton\" value=\"Toggle Code\"></form>\n"
      ],
      "text/plain": [
       "<IPython.core.display.HTML object>"
      ]
     },
     "metadata": {},
     "output_type": "display_data"
    },
    {
     "data": {
      "application/vnd.jupyter.widget-view+json": {
       "model_id": "382f64b6348c4600aaec4261b859efbb",
       "version_major": 2,
       "version_minor": 0
      },
      "text/plain": [
       "Text(value='', description='Post IDs', placeholder='abcd, wxyz, qwerty', style=DescriptionStyle(description_wi…"
      ]
     },
     "metadata": {},
     "output_type": "display_data"
    },
    {
     "data": {
      "application/vnd.jupyter.widget-view+json": {
       "model_id": "123aa0d96ba74dcda4ed5a5222133538",
       "version_major": 2,
       "version_minor": 0
      },
      "text/plain": [
       "Text(value='', description='Search term', placeholder='android', style=DescriptionStyle(description_width='ini…"
      ]
     },
     "metadata": {},
     "output_type": "display_data"
    },
    {
     "data": {
      "application/vnd.jupyter.widget-view+json": {
       "model_id": "4c3d9d4f2f5244e7809013846fe14fcc",
       "version_major": 2,
       "version_minor": 0
      },
      "text/plain": [
       "Text(value='', description='Exlude search term', placeholder='robots', style=DescriptionStyle(description_widt…"
      ]
     },
     "metadata": {},
     "output_type": "display_data"
    },
    {
     "data": {
      "application/vnd.jupyter.widget-view+json": {
       "model_id": "5e53759b819c42bd9080fc73c32ef234",
       "version_major": 2,
       "version_minor": 0
      },
      "text/plain": [
       "Text(value='', description='Title keyword', placeholder='battery', style=DescriptionStyle(description_width='i…"
      ]
     },
     "metadata": {},
     "output_type": "display_data"
    },
    {
     "data": {
      "application/vnd.jupyter.widget-view+json": {
       "model_id": "4263a9647fee47f5a8663737c053b75e",
       "version_major": 2,
       "version_minor": 0
      },
      "text/plain": [
       "Text(value='', description='Exclude keyword in title', placeholder='iphone', style=DescriptionStyle(descriptio…"
      ]
     },
     "metadata": {},
     "output_type": "display_data"
    },
    {
     "data": {
      "application/vnd.jupyter.widget-view+json": {
       "model_id": "c8dd5a6061194656ba85276c3a3326d0",
       "version_major": 2,
       "version_minor": 0
      },
      "text/plain": [
       "Text(value='', description='# posts returned, between 0 - 500', placeholder='20', style=DescriptionStyle(descr…"
      ]
     },
     "metadata": {},
     "output_type": "display_data"
    },
    {
     "data": {
      "application/vnd.jupyter.widget-view+json": {
       "model_id": "cb8f7ac177154802813ca6f04c79f86e",
       "version_major": 2,
       "version_minor": 0
      },
      "text/plain": [
       "Text(value='', description='Post author', placeholder='sundar', style=DescriptionStyle(description_width='init…"
      ]
     },
     "metadata": {},
     "output_type": "display_data"
    },
    {
     "data": {
      "application/vnd.jupyter.widget-view+json": {
       "model_id": "367cd96880274bcdab244f078b0b2697",
       "version_major": 2,
       "version_minor": 0
      },
      "text/plain": [
       "Text(value='', description='Subreddit. Do not include \"r/\"', placeholder='google', style=DescriptionStyle(desc…"
      ]
     },
     "metadata": {},
     "output_type": "display_data"
    },
    {
     "data": {
      "application/vnd.jupyter.widget-view+json": {
       "model_id": "3b8d39d75e564b229df235f7e6be1272",
       "version_major": 2,
       "version_minor": 0
      },
      "text/plain": [
       "Text(value='', description='Start date. Format mm/dd/yyyy', placeholder='09/27/2019', style=DescriptionStyle(d…"
      ]
     },
     "metadata": {},
     "output_type": "display_data"
    },
    {
     "data": {
      "application/vnd.jupyter.widget-view+json": {
       "model_id": "01448e9a1b214e70b4caef382ecdaff4",
       "version_major": 2,
       "version_minor": 0
      },
      "text/plain": [
       "Text(value='', description='End date. Format mm/dd/yyyy', placeholder='12/27/2019', style=DescriptionStyle(des…"
      ]
     },
     "metadata": {},
     "output_type": "display_data"
    },
    {
     "data": {
      "application/vnd.jupyter.widget-view+json": {
       "model_id": "457944b4edbc42a29d3427aa3ba3d235",
       "version_major": 2,
       "version_minor": 0
      },
      "text/plain": [
       "Text(value='', description='Score', placeholder='>100', style=DescriptionStyle(description_width='initial'))"
      ]
     },
     "metadata": {},
     "output_type": "display_data"
    },
    {
     "data": {
      "application/vnd.jupyter.widget-view+json": {
       "model_id": "3e151acd9a9e4dbcbf8621518e388f2f",
       "version_major": 2,
       "version_minor": 0
      },
      "text/plain": [
       "Text(value='', description='# Comments', placeholder='>10', style=DescriptionStyle(description_width='initial'…"
      ]
     },
     "metadata": {},
     "output_type": "display_data"
    },
    {
     "data": {
      "application/vnd.jupyter.widget-view+json": {
       "model_id": "20eb80d04ae44253bb64569b81ade313",
       "version_major": 2,
       "version_minor": 0
      },
      "text/plain": [
       "RadioButtons(description='Order by', options=('desc', 'asc'), style=DescriptionStyle(description_width='initia…"
      ]
     },
     "metadata": {},
     "output_type": "display_data"
    },
    {
     "data": {
      "application/vnd.jupyter.widget-view+json": {
       "model_id": "4de882cd7ea2462dbaeceb644ad3ac30",
       "version_major": 2,
       "version_minor": 0
      },
      "text/plain": [
       "RadioButtons(description='Sort by', options=('score', 'num_comments', 'created_utc'), style=DescriptionStyle(d…"
      ]
     },
     "metadata": {},
     "output_type": "display_data"
    },
    {
     "data": {
      "application/vnd.jupyter.widget-view+json": {
       "model_id": "27a5c9c7831540479058de893a7dc6bb",
       "version_major": 2,
       "version_minor": 0
      },
      "text/plain": [
       "RadioButtons(description='Output formated as text or csv', index=1, options=('csv', 'Text'), style=Description…"
      ]
     },
     "metadata": {},
     "output_type": "display_data"
    }
   ],
   "source": [
    "import requests\n",
    "import json\n",
    "import time\n",
    "import os\n",
    "import urllib\n",
    "import csv\n",
    "import ipywidgets as widgets\n",
    "from IPython.display import display\n",
    "from IPython.display import HTML\n",
    "\n",
    "from IPython.core.display import display, HTML\n",
    "toggle_code_str = '''\n",
    "<form action=\"javascript:code_toggle()\"><input type=\"submit\" id=\"toggleButton\" value=\"Toggle Code\"></form>\n",
    "'''\n",
    "\n",
    "toggle_code_prepare_str = '''\n",
    "    <script>\n",
    "    function code_toggle() {\n",
    "        if ($('div.cell.code_cell.rendered.selected div.input').css('display')!='none'){\n",
    "            $('div.cell.code_cell.rendered.selected div.input').hide();\n",
    "        } else {\n",
    "            $('div.cell.code_cell.rendered.selected div.input').show();\n",
    "        }\n",
    "    }\n",
    "    </script>\n",
    "\n",
    "'''\n",
    "\n",
    "display(HTML(toggle_code_prepare_str + toggle_code_str))\n",
    "\n",
    "def toggle_code():\n",
    "    display(HTML(toggle_code_str))\n",
    "\n",
    "ids = ''\n",
    "q = ''\n",
    "q_not = ''\n",
    "title = ''\n",
    "titlenot = ''\n",
    "size = ''\n",
    "author = ''\n",
    "subreddit = ''\n",
    "after = ''\n",
    "before = ''\n",
    "score = ''\n",
    "num_comments = ''\n",
    "sort = ''\n",
    "sort_type = ''\n",
    "is_csv = 'Text'\n",
    "\n",
    "id_widget = widgets.Text(\n",
    "    value='',\n",
    "    style = {'description_width': 'initial'},\n",
    "    placeholder='abcd, wxyz, qwerty',\n",
    "    description='Post IDs',\n",
    "    disabled=False\n",
    ")\n",
    "\n",
    "q_widget = widgets.Text(\n",
    "    value='',\n",
    "    style = {'description_width': 'initial'},\n",
    "    placeholder='android',\n",
    "    description='Search term',\n",
    "    disabled=False\n",
    ")\n",
    "\n",
    "q_not_widget = widgets.Text(\n",
    "    value='',\n",
    "    style = {'description_width': 'initial'},\n",
    "    placeholder='robots',\n",
    "    description='Exlude search term',\n",
    "    disabled=False\n",
    ")\n",
    "\n",
    "title_widget = widgets.Text(\n",
    "    value='',\n",
    "    style = {'description_width': 'initial'},\n",
    "    placeholder='battery',\n",
    "    description='Title keyword',\n",
    "    disabled=False\n",
    ")\n",
    "\n",
    "titlenot_widget = widgets.Text(\n",
    "    value='',\n",
    "    style = {'description_width': 'initial'},\n",
    "    placeholder='iphone',\n",
    "    description='Exclude keyword in title',\n",
    "    disabled=False\n",
    ")\n",
    "\n",
    "size_widget = widgets.Text(\n",
    "    value='',\n",
    "    style = {'description_width': 'initial'},\n",
    "    placeholder='20',\n",
    "    description='# posts returned, between 0 - 500',\n",
    "    disabled=False\n",
    ")\n",
    "\n",
    "author_widget = widgets.Text(\n",
    "    value='',\n",
    "    style = {'description_width': 'initial'},\n",
    "    placeholder='sundar',\n",
    "    description='Post author',\n",
    "    disabled=False\n",
    ")\n",
    "\n",
    "subreddit_widget = widgets.Text(\n",
    "    value='',\n",
    "    style = {'description_width': 'initial'},\n",
    "    placeholder='google',\n",
    "    description='Subreddit. Do not include \"r/\"',\n",
    "    disabled=False\n",
    ")\n",
    "\n",
    "after_widget = widgets.Text(\n",
    "    value='',\n",
    "    style = {'description_width': 'initial'},\n",
    "    placeholder='09/27/2019',\n",
    "    description='Start date. Format mm/dd/yyyy',\n",
    "    disabled=False\n",
    ")\n",
    "\n",
    "\n",
    "before_widget = widgets.Text(\n",
    "    value='',\n",
    "    style = {'description_width': 'initial'},\n",
    "    placeholder='12/27/2019',\n",
    "    description='End date. Format mm/dd/yyyy',\n",
    "    disabled=False\n",
    ")\n",
    "score_widget = widgets.Text(\n",
    "    value='',\n",
    "    style = {'description_width': 'initial'},\n",
    "    placeholder='>100',\n",
    "    description='Score',\n",
    "    disabled=False\n",
    ") \n",
    "\n",
    "num_comments_widget = widgets.Text(\n",
    "    value='',\n",
    "    style = {'description_width': 'initial'},\n",
    "    placeholder='>10',\n",
    "    description='# Comments',\n",
    "    disabled=False\n",
    ") \n",
    "\n",
    "sort_widget = widgets.RadioButtons(\n",
    "    options=['desc', 'asc'],\n",
    "    style = {'description_width': 'initial'},\n",
    "    value='desc',\n",
    "    description='Order by',\n",
    "    disabled=False\n",
    ")\n",
    "\n",
    "sort_type_widget = widgets.RadioButtons(\n",
    "    options=['score', 'num_comments', 'created_utc'],\n",
    "    style = {'description_width': 'initial'},\n",
    "    value='score',\n",
    "    description='Sort by',\n",
    "    disabled=False\n",
    ")\n",
    "\n",
    "is_csv_widget = widgets.RadioButtons(\n",
    "    options=['csv', 'Text'],\n",
    "    style = {'description_width': 'initial'},\n",
    "    value='Text',\n",
    "    description='Output formated as text or csv',\n",
    "    disabled=False\n",
    ")\n",
    "\n",
    "\n",
    "submit_widget = widgets.Button(description=\"Go!\")\n",
    "output = widgets.Output()\n",
    "\n",
    "def convertTime():\n",
    "    global after\n",
    "    global before\n",
    "    pattern = '%m/%d/%Y'\n",
    "    os.environ['TZ']='UTC'\n",
    "    \n",
    "    if after == '':\n",
    "        pass\n",
    "    else:\n",
    "        after = str(int(time.mktime(time.strptime(after, pattern))))\n",
    "    if before == '':\n",
    "        pass\n",
    "    else:\n",
    "        before = str(int(time.mktime(time.strptime(before, pattern))))\n",
    "\n",
    "def updateVars():\n",
    "    global ids\n",
    "    global q\n",
    "    global q_not\n",
    "    global title\n",
    "    global titlenot\n",
    "    global size\n",
    "    global author\n",
    "    global subreddit\n",
    "    global after\n",
    "    global before\n",
    "    global score\n",
    "    global num_comments\n",
    "    global sort\n",
    "    global sort_type\n",
    "    global is_csv\n",
    "    \n",
    "    ids = id_widget.value\n",
    "    q = q_widget.value\n",
    "    q_not = q_not_widget.value\n",
    "    title = title_widget.value\n",
    "    titlenot = titlenot_widget.value\n",
    "    size = size_widget.value\n",
    "    author = author_widget.value\n",
    "    subreddit = subreddit_widget.value\n",
    "    after = after_widget.value\n",
    "    before = before_widget.value\n",
    "    score = score_widget.value\n",
    "    num_comments = num_comments_widget.value\n",
    "    sort = sort_widget.value\n",
    "    sort_type = sort_type_widget.value\n",
    "    is_csv = is_csv_widget.value\n",
    "    \n",
    "def createRequest():\n",
    "    global q\n",
    "    global q_not\n",
    "    global title\n",
    "    global titlenot\n",
    "    \n",
    "    if q == '':\n",
    "        pass\n",
    "    else:\n",
    "        q = urllib.parse.quote_plus(q)\n",
    "        \n",
    "    if q_not == '':\n",
    "        pass\n",
    "    else:\n",
    "        q_not = urllib.parse.quote_plus(q_not)\n",
    "               \n",
    "    if title == '':\n",
    "        pass\n",
    "    else:\n",
    "        title = urllib.parse.quote_plus(title)\n",
    "        \n",
    "    if titlenot == '':\n",
    "        pass\n",
    "    else:\n",
    "        titlenot = urllib.parse.quote_plus(titlenot)\n",
    "    \n",
    "    request = 'https://api.pushshift.io/reddit/search/submission/?'\n",
    "    request += 'size=' + size + '&'\n",
    "    request += \"ids=\" + ids + \"&\"\n",
    "    request += \"q=\" + q + \"&\"\n",
    "    request += \"q:not=\" + q_not + \"&\"\n",
    "    request += \"title=\" + title + \"&\"\n",
    "    request += \"title:not=\" + titlenot + \"&\"\n",
    "    request += \"author=\" + author + \"&\"\n",
    "    request += \"subreddit=\" + subreddit + \"&\"\n",
    "    request += \"after=\" + after + \"&\"\n",
    "    request += \"before=\" + before + \"&\"\n",
    "    request += \"score=\" + score + \"&\"\n",
    "    request += \"num_comments=\" + num_comments + \"&\"\n",
    "    request += \"sort=\" + sort + \"&\"\n",
    "    request += \"sort_type=\" + sort_type + \"&\"\n",
    "    request += \"metadata=true\" \n",
    "    \n",
    "    return request\n",
    "    \n",
    "def getResponse(request):\n",
    "    r = requests.get(request)\n",
    "    result = json.loads(r.content)\n",
    "    return result\n",
    "    \n",
    "def formatResponse(args):\n",
    "    \n",
    "    metadata = args['metadata']\n",
    "    total_results = metadata['total_results']\n",
    "    results_returned = metadata['results_returned']\n",
    "    \n",
    "    metadata_str = \"\"\"\n",
    "    **Info** \\n \\n\n",
    "    Total submissions: %s \\n\n",
    "    Posts returned: %s \\n\n",
    "    *************************** \\n\n",
    "    \"\"\" %(total_results, results_returned)\n",
    "    \n",
    "    data = args['data']\n",
    "\n",
    "    \n",
    "    i = 0 \n",
    "    data_str = '**Posts** \\n \\n'\n",
    "    \n",
    "    while i < results_returned:\n",
    "        author = data[i]['author']\n",
    "        full_link = data[i]['full_link']\n",
    "        num_comments = data[i]['num_comments']\n",
    "        subreddit = data[i]['subreddit']\n",
    "        title = data[i]['title']\n",
    "        score = data[i]['score']\n",
    "        \n",
    "        data_str += \"\"\"\n",
    "        Title : %s \\n\n",
    "        Author: %s \\n\n",
    "        Subreddit: %s \\n\n",
    "        Link: %s \\n\n",
    "        Number of comments: %s \\n\n",
    "        Score: %s \\n\n",
    "        *************************** \\n\n",
    "        \"\"\" %(title, author, subreddit, full_link, num_comments, score)\n",
    "        \n",
    "        i += 1\n",
    "    \n",
    "    full_str = str(metadata_str) + str(data_str)\n",
    "    \n",
    "    return(full_str)\n",
    "\n",
    "def csvResponse(args):\n",
    "    \n",
    "    metadata = args['metadata']\n",
    "    try:\n",
    "        results_returned = metadata['results_returned']\n",
    "        data = args['data'] \n",
    "        i = 0\n",
    "        data_str = \"\"\"\n",
    "        Copy the below, paste without formatting into a Google Sheet \\n\n",
    "        ****************************************************************\\n\n",
    "        title\\t author\\t subreddit\\t full link\\t number of comments\\t score\n",
    "        \"\"\"\n",
    "\n",
    "        while i < results_returned:\n",
    "            author = str(data[i]['author']).rstrip()\n",
    "            full_link = str(data[i]['full_link']).rstrip()\n",
    "            num_comments = str(data[i]['num_comments']).rstrip()\n",
    "            subreddit = str(data[i]['subreddit']).rstrip()\n",
    "            title = str(data[i]['title']).rstrip()\n",
    "            score = str(data[i]['score']).rstrip()\n",
    "\n",
    "            data_str += \"%s\\t%s\\t%s\\t%s\\t%s\\t%s\\n\" %(title, author, subreddit, full_link, num_comments, score)\n",
    "\n",
    "            i += 1\n",
    "\n",
    "        return(data_str)\n",
    "\n",
    "    except:\n",
    "        print('no results')\n",
    "        print(args)\n",
    "\n",
    "def onSubmit(b):\n",
    "    with output:\n",
    "        updateVars()\n",
    "        convertTime()\n",
    "        request = createRequest()\n",
    "        response = getResponse(request)\n",
    "        if is_csv == 'csv':\n",
    "            print(csvResponse(response))\n",
    "        else:\n",
    "            print(formatResponse(response))\n",
    "\n",
    "display(id_widget,\n",
    "        q_widget,\n",
    "        q_not_widget,\n",
    "        title_widget,\n",
    "        titlenot_widget,\n",
    "        size_widget,\n",
    "        author_widget,\n",
    "        subreddit_widget,\n",
    "        after_widget,\n",
    "        before_widget,\n",
    "        score_widget,\n",
    "        num_comments_widget,\n",
    "        sort_widget,\n",
    "        sort_type_widget,\n",
    "        is_csv_widget)"
   ]
  },
  {
   "cell_type": "code",
   "execution_count": 2,
   "metadata": {},
   "outputs": [
    {
     "data": {
      "text/html": [
       "\n",
       "    <script>\n",
       "    function code_toggle() {\n",
       "        if ($('div.cell.code_cell.rendered.selected div.input').css('display')!='none'){\n",
       "            $('div.cell.code_cell.rendered.selected div.input').hide();\n",
       "        } else {\n",
       "            $('div.cell.code_cell.rendered.selected div.input').show();\n",
       "        }\n",
       "    }\n",
       "    </script>\n",
       "\n",
       "\n",
       "<form action=\"javascript:code_toggle()\"><input type=\"submit\" id=\"toggleButton\" value=\"Toggle Code\"></form>\n"
      ],
      "text/plain": [
       "<IPython.core.display.HTML object>"
      ]
     },
     "metadata": {},
     "output_type": "display_data"
    },
    {
     "data": {
      "application/vnd.jupyter.widget-view+json": {
       "model_id": "c0801edf6cf54238820e264d9b464cba",
       "version_major": 2,
       "version_minor": 0
      },
      "text/plain": [
       "Button(description='Go!', style=ButtonStyle())"
      ]
     },
     "metadata": {},
     "output_type": "display_data"
    },
    {
     "data": {
      "application/vnd.jupyter.widget-view+json": {
       "model_id": "b9e9719943534bf7a09c688aafc3ae1a",
       "version_major": 2,
       "version_minor": 0
      },
      "text/plain": [
       "Output()"
      ]
     },
     "metadata": {},
     "output_type": "display_data"
    }
   ],
   "source": [
    "from IPython.core.display import display, HTML\n",
    "toggle_code_str = '''\n",
    "<form action=\"javascript:code_toggle()\"><input type=\"submit\" id=\"toggleButton\" value=\"Toggle Code\"></form>\n",
    "'''\n",
    "\n",
    "toggle_code_prepare_str = '''\n",
    "    <script>\n",
    "    function code_toggle() {\n",
    "        if ($('div.cell.code_cell.rendered.selected div.input').css('display')!='none'){\n",
    "            $('div.cell.code_cell.rendered.selected div.input').hide();\n",
    "        } else {\n",
    "            $('div.cell.code_cell.rendered.selected div.input').show();\n",
    "        }\n",
    "    }\n",
    "    </script>\n",
    "\n",
    "'''\n",
    "\n",
    "display(HTML(toggle_code_prepare_str + toggle_code_str))\n",
    "\n",
    "def toggle_code():\n",
    "    display(HTML(toggle_code_str))\n",
    "\n",
    "submit_widget.on_click(onSubmit)\n",
    "\n",
    "display(submit_widget, output)"
   ]
  }
 ],
 "metadata": {
  "kernelspec": {
   "display_name": "Python 3",
   "language": "python",
   "name": "python3"
  },
  "language_info": {
   "codemirror_mode": {
    "name": "ipython",
    "version": 3
   },
   "file_extension": ".py",
   "mimetype": "text/x-python",
   "name": "python",
   "nbconvert_exporter": "python",
   "pygments_lexer": "ipython3",
   "version": "3.7.6"
  }
 },
 "nbformat": 4,
 "nbformat_minor": 2
}
